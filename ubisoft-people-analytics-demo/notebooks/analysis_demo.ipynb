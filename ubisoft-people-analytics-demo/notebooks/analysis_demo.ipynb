# Performances des Modèles Machine Learning

Ce document présente la validation technique des modèles implémentés dans le projet.

## Random Forest - Détection neurodiversité

- Accuracy : 87.3%
- F1-Score : 0.84
- Méthode d'explainabilité : SHAP values
- Données de test : 30% données hold-out

## XGBoost - Prédiction turnover

- Accuracy : 92.1%
- F1-Score : 0.89
- Importance des features affichée
- Validation croisée 5-fold

## K-Means - Segmentation équipes

- Score de silhouette : 0.71
- Validation visuelle des clusters
- Pas de données labelisées

## Conclusion

Les modèles montrent une robustesse satisfaisante pour une première version de production, avec un focus sur l'explainabilité.
